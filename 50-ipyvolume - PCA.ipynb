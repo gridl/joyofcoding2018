{
 "cells": [
  {
   "cell_type": "code",
   "execution_count": null,
   "metadata": {},
   "outputs": [],
   "source": [
    "import sklearn.datasets\n",
    "import numpy as np\n",
    "import matplotlib.cm\n",
    "import ipywidgets as widgets"
   ]
  },
  {
   "cell_type": "code",
   "execution_count": null,
   "metadata": {},
   "outputs": [],
   "source": [
    "# 4 features: the length and the width of the sepals and petals\n",
    "iris = sklearn.datasets.load_iris()\n",
    "X = iris.data[:, :3]\n",
    "x, y, z = X.T\n",
    "# species\n",
    "species = iris.target"
   ]
  },
  {
   "cell_type": "code",
   "execution_count": null,
   "metadata": {},
   "outputs": [],
   "source": [
    "species"
   ]
  },
  {
   "cell_type": "code",
   "execution_count": null,
   "metadata": {},
   "outputs": [],
   "source": [
    "import ipyvolume as ipv"
   ]
  },
  {
   "cell_type": "code",
   "execution_count": null,
   "metadata": {},
   "outputs": [],
   "source": [
    "fig = ipv.figure()\n",
    "points = ipv.scatter(x, y, z, marker='sphere')\n",
    "ipv.xyzlim(-3, 7)\n",
    "ipv.xlabel('sepal length')\n",
    "ipv.ylabel('sepal width')\n",
    "ipv.zlabel('petal length')\n",
    "ipv.show()"
   ]
  },
  {
   "cell_type": "code",
   "execution_count": null,
   "metadata": {},
   "outputs": [],
   "source": [
    "points.size = 1"
   ]
  },
  {
   "cell_type": "code",
   "execution_count": null,
   "metadata": {},
   "outputs": [],
   "source": [
    "points.color = 'green'"
   ]
  },
  {
   "cell_type": "code",
   "execution_count": null,
   "metadata": {},
   "outputs": [],
   "source": [
    "cp = widgets.ColorPicker()\n",
    "link = widgets.jslink((points, 'color'), (cp, 'value'))\n",
    "cp"
   ]
  },
  {
   "cell_type": "code",
   "execution_count": null,
   "metadata": {},
   "outputs": [],
   "source": [
    "link.unlink()"
   ]
  },
  {
   "cell_type": "code",
   "execution_count": null,
   "metadata": {},
   "outputs": [],
   "source": [
    "palette = [[1., 0., 0.], [0., 1., 0.], [0., 0., 1.]]\n",
    "colors = np.array([palette[k] for k in species])"
   ]
  },
  {
   "cell_type": "code",
   "execution_count": null,
   "metadata": {},
   "outputs": [],
   "source": [
    "points.color = colors"
   ]
  },
  {
   "cell_type": "code",
   "execution_count": null,
   "metadata": {},
   "outputs": [],
   "source": [
    "from sklearn.decomposition import PCA"
   ]
  },
  {
   "cell_type": "code",
   "execution_count": null,
   "metadata": {},
   "outputs": [],
   "source": [
    "X_reduced = PCA(n_components=3).fit_transform(iris.data)"
   ]
  },
  {
   "cell_type": "code",
   "execution_count": null,
   "metadata": {},
   "outputs": [],
   "source": [
    "fig"
   ]
  },
  {
   "cell_type": "code",
   "execution_count": null,
   "metadata": {},
   "outputs": [],
   "source": [
    "with points.hold_sync():\n",
    "    points.x, points.y, points.z = X_reduced.T\n",
    "with fig.hold_sync():\n",
    "    ipv.xlabel('PCA 0')\n",
    "    ipv.ylabel('PCA 1')\n",
    "    ipv.zlabel('PCA 2')"
   ]
  },
  {
   "cell_type": "code",
   "execution_count": null,
   "metadata": {},
   "outputs": [],
   "source": [
    "with points.hold_sync():\n",
    "    points.x, points.y, points.z = X.T\n",
    "with fig.hold_sync():\n",
    "    ipv.xlabel('sepal length')\n",
    "    ipv.ylabel('sepal width')\n",
    "    ipv.zlabel('petal length')\n"
   ]
  },
  {
   "cell_type": "code",
   "execution_count": null,
   "metadata": {},
   "outputs": [],
   "source": []
  },
  {
   "cell_type": "code",
   "execution_count": null,
   "metadata": {},
   "outputs": [],
   "source": [
    "x = np.array([X[:,0], X_reduced[:,0]])\n",
    "y = np.array([X[:,1], X_reduced[:,1]])\n",
    "z = np.array([X[:,2], X_reduced[:,2]])\n",
    "fig2 = ipv.figure()\n",
    "points2 = ipv.scatter(x, y, z, marker='sphere', color=colors)\n",
    "ipv.animation_control(points2, interval=1200)\n",
    "ipv.show()"
   ]
  },
  {
   "cell_type": "markdown",
   "metadata": {},
   "source": [
    "# Advantages\n",
    " * Code close to the data\n",
    " * Viz at the client\n",
    " * No remote OpenGL"
   ]
  },
  {
   "cell_type": "code",
   "execution_count": null,
   "metadata": {},
   "outputs": [],
   "source": []
  }
 ],
 "metadata": {
  "kernelspec": {
   "display_name": "Python 3",
   "language": "python",
   "name": "python3"
  },
  "language_info": {
   "codemirror_mode": {
    "name": "ipython",
    "version": 3
   },
   "file_extension": ".py",
   "mimetype": "text/x-python",
   "name": "python",
   "nbconvert_exporter": "python",
   "pygments_lexer": "ipython3",
   "version": "3.6.5"
  }
 },
 "nbformat": 4,
 "nbformat_minor": 2
}
