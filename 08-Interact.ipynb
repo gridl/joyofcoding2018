{
 "cells": [
  {
   "cell_type": "code",
   "execution_count": null,
   "metadata": {},
   "outputs": [],
   "source": [
    "import ipywidgets as widgets"
   ]
  },
  {
   "cell_type": "code",
   "execution_count": null,
   "metadata": {},
   "outputs": [],
   "source": [
    "slider = widgets.FloatSlider(min=0, max=100, value=10, step=1)\n",
    "slider"
   ]
  },
  {
   "cell_type": "code",
   "execution_count": null,
   "metadata": {},
   "outputs": [],
   "source": [
    "def on_change_slider(change):\n",
    "    x = slider.value\n",
    "    y = x**2\n",
    "    print(f'The square of {x} is {y}')\n",
    "slider.observe(on_change_slider, 'value')"
   ]
  },
  {
   "cell_type": "code",
   "execution_count": null,
   "metadata": {},
   "outputs": [],
   "source": [
    "import IPython\n",
    "slider2 = widgets.FloatSlider(min=0, max=100, value=10, step=1)\n",
    "\n",
    "def on_change_slider(change):\n",
    "    IPython.display.clear_output(wait=True)\n",
    "    x = slider2.value\n",
    "    y = x**2\n",
    "    print(f'The square of {x} is {y}')\n",
    "slider2.observe(on_change_slider, 'value')\n",
    "slider2"
   ]
  },
  {
   "cell_type": "code",
   "execution_count": null,
   "metadata": {},
   "outputs": [],
   "source": [
    "@widgets.interact(x=(0, 100))\n",
    "def square(x=10):\n",
    "    y = x**2\n",
    "    print(f'The square of {x} is {y}')"
   ]
  },
  {
   "cell_type": "code",
   "execution_count": null,
   "metadata": {},
   "outputs": [],
   "source": [
    "@widgets.interact(x=(0, 100), gamma=(0.1, 2.0, 0.1))\n",
    "def square(x=10, gamma=2):\n",
    "    y = x**gamma\n",
    "    print(f'{x}**{gamma} = {y}')"
   ]
  },
  {
   "cell_type": "code",
   "execution_count": null,
   "metadata": {},
   "outputs": [],
   "source": [
    "import matplotlib.pylab as plt\n",
    "import numpy as np\n",
    "\n",
    "@widgets.interact(gamma=(0.1, 2.0, 0.1))\n",
    "def square(gamma=2):\n",
    "    x = np.linspace(1, 10, num=10)\n",
    "    y = x ** gamma\n",
    "    plt.plot(x, y)"
   ]
  },
  {
   "cell_type": "code",
   "execution_count": null,
   "metadata": {},
   "outputs": [],
   "source": []
  },
  {
   "cell_type": "code",
   "execution_count": null,
   "metadata": {},
   "outputs": [],
   "source": []
  }
 ],
 "metadata": {
  "kernelspec": {
   "display_name": "Python 3",
   "language": "python",
   "name": "python3"
  },
  "language_info": {
   "codemirror_mode": {
    "name": "ipython",
    "version": 3
   },
   "file_extension": ".py",
   "mimetype": "text/x-python",
   "name": "python",
   "nbconvert_exporter": "python",
   "pygments_lexer": "ipython3",
   "version": "3.6.5"
  }
 },
 "nbformat": 4,
 "nbformat_minor": 2
}
