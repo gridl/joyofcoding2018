{
 "cells": [
  {
   "cell_type": "code",
   "execution_count": null,
   "metadata": {},
   "outputs": [],
   "source": [
    "#include \"xleaflet/xmap.hpp\""
   ]
  },
  {
   "cell_type": "code",
   "execution_count": null,
   "metadata": {},
   "outputs": [],
   "source": [
    "auto map = xlf::map_generator()\n",
    "          .center({50, 354})\n",
    "          .zoom(5)\n",
    "          .finalize();"
   ]
  },
  {
   "cell_type": "code",
   "execution_count": null,
   "metadata": {},
   "outputs": [],
   "source": [
    "map"
   ]
  },
  {
   "cell_type": "code",
   "execution_count": null,
   "metadata": {},
   "outputs": [],
   "source": [
    "map.center()[0]"
   ]
  },
  {
   "cell_type": "code",
   "execution_count": null,
   "metadata": {},
   "outputs": [],
   "source": [
    "map.zoom()"
   ]
  },
  {
   "cell_type": "code",
   "execution_count": null,
   "metadata": {},
   "outputs": [],
   "source": [
    "map.center = std::array<double, 2>({51.90085899302117, 4.557266235351563});"
   ]
  },
  {
   "cell_type": "code",
   "execution_count": null,
   "metadata": {},
   "outputs": [],
   "source": [
    "map.zoom = 12"
   ]
  },
  {
   "cell_type": "code",
   "execution_count": null,
   "metadata": {},
   "outputs": [],
   "source": [
    "// #include <iostream>\n",
    "\n",
    "// #include \"xleaflet/xmap.hpp\"\n",
    "\n",
    "// void print_mouse_position(xeus::xjson event)\n",
    "// {\n",
    "//     if (event[\"type\"] == \"mousemove\")\n",
    "//     {\n",
    "//         std::cout << \"Mouse position: \" << event[\"coordinates\"].dump() << std::endl;\n",
    "//     }\n",
    "\n",
    "//     if (event[\"type\"] == \"mouseout\")\n",
    "//     {\n",
    "//         std::cout << \"Mouse out\" << std::endl;;\n",
    "//     }\n",
    "// }\n",
    "// map.on_interaction(print_mouse_position);"
   ]
  },
  {
   "cell_type": "code",
   "execution_count": null,
   "metadata": {},
   "outputs": [],
   "source": [
    "// #include <iostream>\n",
    "\n",
    "// #include \"xleaflet/xmap.hpp\"\n",
    "\n",
    "// void print_lat_lng(xlf::map& map)\n",
    "// {\n",
    "//     std::string lat = std::to_string(map.center().front());\n",
    "//     std::string lng = std::to_string(map.center().back());\n",
    "\n",
    "//     std::cout << \"latitude: \" << lat << \", longitude: \" << lng << std::endl;\n",
    "// }\n",
    "\n",
    "// XOBSERVE(map, center, print_lat_lng);"
   ]
  },
  {
   "cell_type": "code",
   "execution_count": null,
   "metadata": {},
   "outputs": [],
   "source": [
    "#include \"xleaflet/xmap.hpp\"\n",
    "#include \"xleaflet/xbasemaps.hpp\"\n",
    "#include \"xleaflet/xsplit_map_control.hpp\"\n",
    "\n",
    "auto map2 = xlf::map_generator()\n",
    "    .center({42.6824, 365.581})\n",
    "    .zoom(5)\n",
    "    .finalize();\n",
    "\n",
    "auto right_layer = xlf::basemap({\"NASAGIBS\", \"ModisTerraTrueColorCR\"}, \"2017-11-11\");\n",
    "auto left_layer = xlf::basemap({\"NASAGIBS\", \"ModisAquaBands721CR\"}, \"2017-11-11\");\n",
    "\n",
    "auto control = xlf::split_map_control_generator()\n",
    "    .left_layer(left_layer)\n",
    "    .right_layer(right_layer)\n",
    "    .finalize();\n",
    "map2.add_control(control);\n",
    "\n",
    "map2"
   ]
  },
  {
   "cell_type": "code",
   "execution_count": null,
   "metadata": {},
   "outputs": [],
   "source": [
    "#include \"xleaflet/xmap.hpp\"\n",
    "#include \"xleaflet/xvideo_overlay.hpp\"\n",
    "\n",
    "auto map3 = xlf::map_generator()\n",
    "    .center({25, -115})\n",
    "    .zoom(4)\n",
    "    .finalize();\n",
    "\n",
    "auto video = xlf::video_overlay_generator()\n",
    "    .url(\"https://www.mapbox.com/bites/00188/patricia_nasa.webm\")\n",
    "    .bounds({{{13, -130}, {32, -100}}})\n",
    "    .finalize();\n",
    "\n",
    "map3.add_layer(video);\n",
    "map3"
   ]
  },
  {
   "cell_type": "code",
   "execution_count": null,
   "metadata": {},
   "outputs": [],
   "source": []
  }
 ],
 "metadata": {
  "kernelspec": {
   "display_name": "C++17",
   "language": "C++17",
   "name": "xeus-cling-cpp17"
  },
  "language_info": {
   "codemirror_mode": "text/x-c++src",
   "file_extension": ".cpp",
   "mimetype": "text/x-c++src",
   "name": "c++",
   "version": "17"
  }
 },
 "nbformat": 4,
 "nbformat_minor": 2
}
