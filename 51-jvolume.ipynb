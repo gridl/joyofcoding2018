{
 "cells": [
  {
   "cell_type": "markdown",
   "metadata": {},
   "source": [
    "# Getting ipyvolume in the JVM kernels using beakerx\n",
    "Two Sigma:\n",
    " * Łukasz Mitusiński\n",
    " * Scott Draves"
   ]
  },
  {
   "cell_type": "code",
   "execution_count": null,
   "metadata": {},
   "outputs": [],
   "source": [
    "%classpath config resolver jitpack.io https://jitpack.io\n",
    "%classpath add mvn com.github.twosigma:ipyvolume:lmitusinski~beakerx-widget-SNAPSHOT\n",
    "(import ipyvolume.PyLab)\n",
    "\n",
    "(defn ball \n",
    "    [size radius]\n",
    "    (let [data           (make-array Float/TYPE size size size)\n",
    "          square         #(* % %)\n",
    "          center         #(- % (/ size 2))\n",
    "          sum            (partial reduce +)\n",
    "          sum-of-squares #(sum (map square %))]\n",
    "        (doseq [i (range size)\n",
    "                j (range size)\n",
    "                k (range size)\n",
    "                :let [[x y z] (map center [i j k])] \n",
    "                :when (> (square radius) \n",
    "                         (sum-of-squares [x y z]))]\n",
    "             (aset data i j k (float 1)))\n",
    "        data))\n",
    ";; (PyLab/volShow (ball 32 12))"
   ]
  },
  {
   "cell_type": "code",
   "execution_count": null,
   "metadata": {},
   "outputs": [],
   "source": [
    "(PyLab/volShow (ball 32 12))"
   ]
  },
  {
   "cell_type": "code",
   "execution_count": null,
   "metadata": {},
   "outputs": [],
   "source": []
  }
 ],
 "metadata": {
  "kernelspec": {
   "display_name": "Clojure",
   "language": "clojure",
   "name": "clojure"
  },
  "language_info": {
   "codemirror_mode": "Clojure",
   "file_extension": ".clj",
   "mimetype": "text/x-clojure",
   "name": "Clojure",
   "nbconverter_exporter": "",
   "version": "1.9.0"
  }
 },
 "nbformat": 4,
 "nbformat_minor": 2
}
